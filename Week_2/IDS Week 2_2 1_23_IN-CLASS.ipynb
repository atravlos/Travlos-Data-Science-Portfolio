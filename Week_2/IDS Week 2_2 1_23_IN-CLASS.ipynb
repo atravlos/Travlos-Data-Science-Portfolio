{
 "cells": [
  {
   "cell_type": "markdown",
   "metadata": {
    "id": "RdoTAcVjo1Jo"
   },
   "source": [
    "# Introduction to Testing in Python\n",
    "\n",
    "## Why Test Code?\n",
    "- Testing ensures your code behaves as expected.\n",
    "- It helps you catch errors early, saving time in debugging.\n",
    "- Good testing improves code quality and makes collaboration easier.\n",
    "\n",
    "## Types of Tests\n",
    "- **Unit Tests**: Test individual functions or methods.\n",
    "- **Integration Tests**: Test how components work together.\n",
    "- **End-to-End Tests**: Simulate user interactions in a full application.\n",
    "\n",
    "## What Will You Learn Today?\n",
    "1. How to write and run tests using Python’s `pytest`.\n",
    "2. How to handle edge cases through testing.\n",
    "3. How to collaborate to design and implement new tests.\n",
    "\n",
    "Let's start by writing a small program and testing it."
   ]
  },
  {
   "cell_type": "code",
   "execution_count": 8,
   "metadata": {
    "id": "1EA-VLIHo-d8"
   },
   "outputs": [],
   "source": [
    "# Starter Code: DataAnalyzer Class\n",
    "import statistics\n",
    "\n",
    "class DataAnalyzer:\n",
    "    def __init__(self, data):\n",
    "        \"\"\"\n",
    "        Initializes the DataAnalyzer with a list of numeric values.\n",
    "        \"\"\"\n",
    "\n",
    "        self.data = data\n",
    "\n",
    "    def mean(self):\n",
    "        \"\"\"Calculates the mean of the numeric data.\"\"\"\n",
    "        return statistics.mean(self.data)"
   ]
  },
  {
   "cell_type": "code",
   "execution_count": 9,
   "metadata": {},
   "outputs": [
    {
     "data": {
      "text/plain": [
       "5"
      ]
     },
     "execution_count": 9,
     "metadata": {},
     "output_type": "execute_result"
    }
   ],
   "source": [
    "first_class = DataAnalyzer([4, 5, 6])\n",
    "first_class.mean()"
   ]
  },
  {
   "cell_type": "markdown",
   "metadata": {
    "id": "hFz9OjkfpE5a"
   },
   "source": [
    "## Writing Your First Test\n",
    "\n",
    "Testing in Python often uses the `pytest` library. Let's write our first test for the `mean` method in the `DataAnalyzer` class.\n",
    "\n",
    "- **Arrange**: Set up the input data.\n",
    "- **Act**: Call the function you want to test.\n",
    "- **Assert**: Verify that the result matches your expectations."
   ]
  },
  {
   "cell_type": "code",
   "execution_count": 10,
   "metadata": {
    "id": "BS9Gzxv6pDje"
   },
   "outputs": [],
   "source": [
    "# First Test: test_mean\n",
    "def test_mean(data_list, mean_value):\n",
    "    \"\"\"\n",
    "    Tests the mean function of DataAnalyzer with a list of numbers\n",
    "    \"\"\"\n",
    "    analyzer = DataAnalyzer(data_list)\n",
    "    assert analyzer.mean() == mean_value"
   ]
  },
  {
   "cell_type": "code",
   "execution_count": 11,
   "metadata": {
    "colab": {
     "base_uri": "https://localhost:8080/"
    },
    "executionInfo": {
     "elapsed": 174,
     "status": "ok",
     "timestamp": 1737630082536,
     "user": {
      "displayName": "David Smiley",
      "userId": "04196970161563073370"
     },
     "user_tz": 300
    },
    "id": "FPIyDQ6RpK_B",
    "outputId": "b335ebbc-a67b-4c4d-f5e7-2a5815f633b1"
   },
   "outputs": [
    {
     "name": "stdout",
     "output_type": "stream",
     "text": [
      "test_mean passed!\n"
     ]
    }
   ],
   "source": [
    "# Run the test\n",
    "# try-except clause\n",
    "try:\n",
    "    test_mean([25, 50, 75], 50)\n",
    "    print(\"test_mean passed!\")\n",
    "except AssertionError:\n",
    "    print(\"test_mean failed!\")"
   ]
  },
  {
   "cell_type": "markdown",
   "metadata": {
    "id": "96YeUygspXc_"
   },
   "source": [
    "## Adding `median` and `mode` Methods\n",
    "\n",
    "Now, let's extend the `DataAnalyzer` class by adding a method to calculate the median.\n",
    "Afterward, we will write a new test for this method."
   ]
  },
  {
   "cell_type": "code",
   "execution_count": 12,
   "metadata": {
    "id": "ufJqQm7ppaWo"
   },
   "outputs": [
    {
     "name": "stdout",
     "output_type": "stream",
     "text": [
      "test_mean passed!\n",
      "test_median failed!\n",
      "test_mode passed!\n"
     ]
    }
   ],
   "source": [
    "# Modify DataAnalyzer: Add median method\n",
    "class DataAnalyzer:\n",
    "    def __init__(self, data):\n",
    "        self.data = data\n",
    "\n",
    "    def mean(self):\n",
    "        \"\"\"Calculates the mean of the numeric data.\"\"\"\n",
    "        return statistics.mean(self.data)\n",
    "\n",
    "\n",
    "    def median(self):\n",
    "        \"\"\"Calculates the median of the numeric data.\"\"\"\n",
    "        return statistics.median(self.data)\n",
    "\n",
    "\n",
    "    def mode(self):\n",
    "        \"\"\"Calculates the median of the numeric data.\"\"\"\n",
    "        return statistics.mode(self.data)\n",
    "\n",
    "\n",
    "# Create test function for median\n",
    "def test_median(data_list, median_value):\n",
    "    \"\"\"Tests the median function of DataAnalyzer with a list of numbers\"\"\"\n",
    "    analyzer = DataAnalyzer(data_list)\n",
    "    assert analyzer.median() == median_value\n",
    "\n",
    "# Create test function for mode\n",
    "def test_mode(data_list, mode_value):\n",
    "    \"\"\"Tests the mode function of DataAnalyzer with a list of numbers\"\"\"\n",
    "    analyzer = DataAnalyzer(data_list)\n",
    "    assert analyzer.mode() == mode_value\n",
    "\n",
    "\n",
    "# Run test functions\n",
    "try:\n",
    "    test_mean([25, 50, 75], 50)\n",
    "    print(\"test_mean passed!\")\n",
    "except AssertionError:\n",
    "    print(\"test_mean failed!\")\n",
    "\n",
    "try:\n",
    "    test_median([5, 6, 7, 8, 9], 3)\n",
    "    print(\"test_median passed!\")\n",
    "except AssertionError:\n",
    "    print(\"test_median failed!\")\n",
    "\n",
    "try:\n",
    "    test_mode([5,5,18,28,30], 5)\n",
    "    print(\"test_mode passed!\")\n",
    "except AssertionError:\n",
    "    print(\"test_mode failed!\")"
   ]
  },
  {
   "cell_type": "code",
   "execution_count": 13,
   "metadata": {},
   "outputs": [
    {
     "name": "stdout",
     "output_type": "stream",
     "text": [
      "test passed successfully!\n"
     ]
    }
   ],
   "source": [
    "# Run test functions\n",
    "try:\n",
    "    test_mean([25, 50, 75], 50)\n",
    "    test_median([6, 7, 8, 9, 10], 8)\n",
    "    test_mode([5,5,18,28,30], 5)\n",
    "    print(\"test passed successfully!\")\n",
    "except AssertionError:\n",
    "    print(\"test failed!\")"
   ]
  },
  {
   "cell_type": "markdown",
   "metadata": {
    "id": "HO7wAQRMsZMy"
   },
   "source": [
    "## Investigating Edge Cases\n",
    "\n",
    "What happens if:\n",
    "1. The list of numbers is empty?\n",
    "2. The list contains non-numeric data?\n",
    "\n",
    "Let's write two new test functions to handle these scenarios:\n",
    "- **test_empty_list**\n",
    "- **test_non_numeric_data**"
   ]
  },
  {
   "cell_type": "code",
   "execution_count": 14,
   "metadata": {
    "id": "PmlAAe3N9cdk"
   },
   "outputs": [
    {
     "ename": "StatisticsError",
     "evalue": "mean requires at least one data point",
     "output_type": "error",
     "traceback": [
      "\u001b[0;31m---------------------------------------------------------------------------\u001b[0m",
      "\u001b[0;31mStatisticsError\u001b[0m                           Traceback (most recent call last)",
      "\u001b[0;32m/var/folders/9_/dnf4s4s91j3_b5_f0crqg4580000gn/T/ipykernel_47580/3493144409.py\u001b[0m in \u001b[0;36m<module>\u001b[0;34m\u001b[0m\n\u001b[1;32m      1\u001b[0m \u001b[0mempty_list\u001b[0m \u001b[0;34m=\u001b[0m \u001b[0;34m[\u001b[0m\u001b[0;34m]\u001b[0m\u001b[0;34m\u001b[0m\u001b[0;34m\u001b[0m\u001b[0m\n\u001b[0;32m----> 2\u001b[0;31m \u001b[0mDataAnalyzer\u001b[0m\u001b[0;34m(\u001b[0m\u001b[0mempty_list\u001b[0m\u001b[0;34m)\u001b[0m\u001b[0;34m.\u001b[0m\u001b[0mmean\u001b[0m\u001b[0;34m(\u001b[0m\u001b[0;34m)\u001b[0m \u001b[0;31m# Trying to run an empty list leads to a StatisticsError\u001b[0m\u001b[0;34m\u001b[0m\u001b[0;34m\u001b[0m\u001b[0m\n\u001b[0m",
      "\u001b[0;32m/var/folders/9_/dnf4s4s91j3_b5_f0crqg4580000gn/T/ipykernel_47580/267028384.py\u001b[0m in \u001b[0;36mmean\u001b[0;34m(self)\u001b[0m\n\u001b[1;32m      6\u001b[0m     \u001b[0;32mdef\u001b[0m \u001b[0mmean\u001b[0m\u001b[0;34m(\u001b[0m\u001b[0mself\u001b[0m\u001b[0;34m)\u001b[0m\u001b[0;34m:\u001b[0m\u001b[0;34m\u001b[0m\u001b[0;34m\u001b[0m\u001b[0m\n\u001b[1;32m      7\u001b[0m         \u001b[0;34m\"\"\"Calculates the mean of the numeric data.\"\"\"\u001b[0m\u001b[0;34m\u001b[0m\u001b[0;34m\u001b[0m\u001b[0m\n\u001b[0;32m----> 8\u001b[0;31m         \u001b[0;32mreturn\u001b[0m \u001b[0mstatistics\u001b[0m\u001b[0;34m.\u001b[0m\u001b[0mmean\u001b[0m\u001b[0;34m(\u001b[0m\u001b[0mself\u001b[0m\u001b[0;34m.\u001b[0m\u001b[0mdata\u001b[0m\u001b[0;34m)\u001b[0m\u001b[0;34m\u001b[0m\u001b[0;34m\u001b[0m\u001b[0m\n\u001b[0m\u001b[1;32m      9\u001b[0m \u001b[0;34m\u001b[0m\u001b[0m\n\u001b[1;32m     10\u001b[0m \u001b[0;34m\u001b[0m\u001b[0m\n",
      "\u001b[0;32m~/opt/anaconda3/lib/python3.9/statistics.py\u001b[0m in \u001b[0;36mmean\u001b[0;34m(data)\u001b[0m\n\u001b[1;32m    313\u001b[0m     \u001b[0mn\u001b[0m \u001b[0;34m=\u001b[0m \u001b[0mlen\u001b[0m\u001b[0;34m(\u001b[0m\u001b[0mdata\u001b[0m\u001b[0;34m)\u001b[0m\u001b[0;34m\u001b[0m\u001b[0;34m\u001b[0m\u001b[0m\n\u001b[1;32m    314\u001b[0m     \u001b[0;32mif\u001b[0m \u001b[0mn\u001b[0m \u001b[0;34m<\u001b[0m \u001b[0;36m1\u001b[0m\u001b[0;34m:\u001b[0m\u001b[0;34m\u001b[0m\u001b[0;34m\u001b[0m\u001b[0m\n\u001b[0;32m--> 315\u001b[0;31m         \u001b[0;32mraise\u001b[0m \u001b[0mStatisticsError\u001b[0m\u001b[0;34m(\u001b[0m\u001b[0;34m'mean requires at least one data point'\u001b[0m\u001b[0;34m)\u001b[0m\u001b[0;34m\u001b[0m\u001b[0;34m\u001b[0m\u001b[0m\n\u001b[0m\u001b[1;32m    316\u001b[0m     \u001b[0mT\u001b[0m\u001b[0;34m,\u001b[0m \u001b[0mtotal\u001b[0m\u001b[0;34m,\u001b[0m \u001b[0mcount\u001b[0m \u001b[0;34m=\u001b[0m \u001b[0m_sum\u001b[0m\u001b[0;34m(\u001b[0m\u001b[0mdata\u001b[0m\u001b[0;34m)\u001b[0m\u001b[0;34m\u001b[0m\u001b[0;34m\u001b[0m\u001b[0m\n\u001b[1;32m    317\u001b[0m     \u001b[0;32massert\u001b[0m \u001b[0mcount\u001b[0m \u001b[0;34m==\u001b[0m \u001b[0mn\u001b[0m\u001b[0;34m\u001b[0m\u001b[0;34m\u001b[0m\u001b[0m\n",
      "\u001b[0;31mStatisticsError\u001b[0m: mean requires at least one data point"
     ]
    }
   ],
   "source": [
    "empty_list = []\n",
    "DataAnalyzer(empty_list).mean() # Trying to run an empty list leads to a StatisticsError"
   ]
  },
  {
   "cell_type": "code",
   "execution_count": 15,
   "metadata": {
    "id": "TiHrGzMf9rAK"
   },
   "outputs": [
    {
     "ename": "TypeError",
     "evalue": "can't convert type 'str' to numerator/denominator",
     "output_type": "error",
     "traceback": [
      "\u001b[0;31m---------------------------------------------------------------------------\u001b[0m",
      "\u001b[0;31mTypeError\u001b[0m                                 Traceback (most recent call last)",
      "\u001b[0;32m/var/folders/9_/dnf4s4s91j3_b5_f0crqg4580000gn/T/ipykernel_47580/3906209883.py\u001b[0m in \u001b[0;36m<module>\u001b[0;34m\u001b[0m\n\u001b[1;32m      1\u001b[0m \u001b[0mnon_num_list\u001b[0m \u001b[0;34m=\u001b[0m \u001b[0;34m[\u001b[0m\u001b[0;34m\"a\"\u001b[0m\u001b[0;34m,\u001b[0m \u001b[0;34m\"b\"\u001b[0m\u001b[0;34m,\u001b[0m \u001b[0;34m\"c\"\u001b[0m\u001b[0;34m]\u001b[0m\u001b[0;34m\u001b[0m\u001b[0;34m\u001b[0m\u001b[0m\n\u001b[0;32m----> 2\u001b[0;31m \u001b[0mDataAnalyzer\u001b[0m\u001b[0;34m(\u001b[0m\u001b[0mnon_num_list\u001b[0m\u001b[0;34m)\u001b[0m\u001b[0;34m.\u001b[0m\u001b[0mmean\u001b[0m\u001b[0;34m(\u001b[0m\u001b[0;34m)\u001b[0m \u001b[0;31m# Trying to run an empty list leads to a TypeError\u001b[0m\u001b[0;34m\u001b[0m\u001b[0;34m\u001b[0m\u001b[0m\n\u001b[0m",
      "\u001b[0;32m/var/folders/9_/dnf4s4s91j3_b5_f0crqg4580000gn/T/ipykernel_47580/267028384.py\u001b[0m in \u001b[0;36mmean\u001b[0;34m(self)\u001b[0m\n\u001b[1;32m      6\u001b[0m     \u001b[0;32mdef\u001b[0m \u001b[0mmean\u001b[0m\u001b[0;34m(\u001b[0m\u001b[0mself\u001b[0m\u001b[0;34m)\u001b[0m\u001b[0;34m:\u001b[0m\u001b[0;34m\u001b[0m\u001b[0;34m\u001b[0m\u001b[0m\n\u001b[1;32m      7\u001b[0m         \u001b[0;34m\"\"\"Calculates the mean of the numeric data.\"\"\"\u001b[0m\u001b[0;34m\u001b[0m\u001b[0;34m\u001b[0m\u001b[0m\n\u001b[0;32m----> 8\u001b[0;31m         \u001b[0;32mreturn\u001b[0m \u001b[0mstatistics\u001b[0m\u001b[0;34m.\u001b[0m\u001b[0mmean\u001b[0m\u001b[0;34m(\u001b[0m\u001b[0mself\u001b[0m\u001b[0;34m.\u001b[0m\u001b[0mdata\u001b[0m\u001b[0;34m)\u001b[0m\u001b[0;34m\u001b[0m\u001b[0;34m\u001b[0m\u001b[0m\n\u001b[0m\u001b[1;32m      9\u001b[0m \u001b[0;34m\u001b[0m\u001b[0m\n\u001b[1;32m     10\u001b[0m \u001b[0;34m\u001b[0m\u001b[0m\n",
      "\u001b[0;32m~/opt/anaconda3/lib/python3.9/statistics.py\u001b[0m in \u001b[0;36mmean\u001b[0;34m(data)\u001b[0m\n\u001b[1;32m    314\u001b[0m     \u001b[0;32mif\u001b[0m \u001b[0mn\u001b[0m \u001b[0;34m<\u001b[0m \u001b[0;36m1\u001b[0m\u001b[0;34m:\u001b[0m\u001b[0;34m\u001b[0m\u001b[0;34m\u001b[0m\u001b[0m\n\u001b[1;32m    315\u001b[0m         \u001b[0;32mraise\u001b[0m \u001b[0mStatisticsError\u001b[0m\u001b[0;34m(\u001b[0m\u001b[0;34m'mean requires at least one data point'\u001b[0m\u001b[0;34m)\u001b[0m\u001b[0;34m\u001b[0m\u001b[0;34m\u001b[0m\u001b[0m\n\u001b[0;32m--> 316\u001b[0;31m     \u001b[0mT\u001b[0m\u001b[0;34m,\u001b[0m \u001b[0mtotal\u001b[0m\u001b[0;34m,\u001b[0m \u001b[0mcount\u001b[0m \u001b[0;34m=\u001b[0m \u001b[0m_sum\u001b[0m\u001b[0;34m(\u001b[0m\u001b[0mdata\u001b[0m\u001b[0;34m)\u001b[0m\u001b[0;34m\u001b[0m\u001b[0;34m\u001b[0m\u001b[0m\n\u001b[0m\u001b[1;32m    317\u001b[0m     \u001b[0;32massert\u001b[0m \u001b[0mcount\u001b[0m \u001b[0;34m==\u001b[0m \u001b[0mn\u001b[0m\u001b[0;34m\u001b[0m\u001b[0;34m\u001b[0m\u001b[0m\n\u001b[1;32m    318\u001b[0m     \u001b[0;32mreturn\u001b[0m \u001b[0m_convert\u001b[0m\u001b[0;34m(\u001b[0m\u001b[0mtotal\u001b[0m \u001b[0;34m/\u001b[0m \u001b[0mn\u001b[0m\u001b[0;34m,\u001b[0m \u001b[0mT\u001b[0m\u001b[0;34m)\u001b[0m\u001b[0;34m\u001b[0m\u001b[0;34m\u001b[0m\u001b[0m\n",
      "\u001b[0;32m~/opt/anaconda3/lib/python3.9/statistics.py\u001b[0m in \u001b[0;36m_sum\u001b[0;34m(data, start)\u001b[0m\n\u001b[1;32m    164\u001b[0m     \u001b[0;32mfor\u001b[0m \u001b[0mtyp\u001b[0m\u001b[0;34m,\u001b[0m \u001b[0mvalues\u001b[0m \u001b[0;32min\u001b[0m \u001b[0mgroupby\u001b[0m\u001b[0;34m(\u001b[0m\u001b[0mdata\u001b[0m\u001b[0;34m,\u001b[0m \u001b[0mtype\u001b[0m\u001b[0;34m)\u001b[0m\u001b[0;34m:\u001b[0m\u001b[0;34m\u001b[0m\u001b[0;34m\u001b[0m\u001b[0m\n\u001b[1;32m    165\u001b[0m         \u001b[0mT\u001b[0m \u001b[0;34m=\u001b[0m \u001b[0m_coerce\u001b[0m\u001b[0;34m(\u001b[0m\u001b[0mT\u001b[0m\u001b[0;34m,\u001b[0m \u001b[0mtyp\u001b[0m\u001b[0;34m)\u001b[0m  \u001b[0;31m# or raise TypeError\u001b[0m\u001b[0;34m\u001b[0m\u001b[0;34m\u001b[0m\u001b[0m\n\u001b[0;32m--> 166\u001b[0;31m         \u001b[0;32mfor\u001b[0m \u001b[0mn\u001b[0m\u001b[0;34m,\u001b[0m \u001b[0md\u001b[0m \u001b[0;32min\u001b[0m \u001b[0mmap\u001b[0m\u001b[0;34m(\u001b[0m\u001b[0m_exact_ratio\u001b[0m\u001b[0;34m,\u001b[0m \u001b[0mvalues\u001b[0m\u001b[0;34m)\u001b[0m\u001b[0;34m:\u001b[0m\u001b[0;34m\u001b[0m\u001b[0;34m\u001b[0m\u001b[0m\n\u001b[0m\u001b[1;32m    167\u001b[0m             \u001b[0mcount\u001b[0m \u001b[0;34m+=\u001b[0m \u001b[0;36m1\u001b[0m\u001b[0;34m\u001b[0m\u001b[0;34m\u001b[0m\u001b[0m\n\u001b[1;32m    168\u001b[0m             \u001b[0mpartials\u001b[0m\u001b[0;34m[\u001b[0m\u001b[0md\u001b[0m\u001b[0;34m]\u001b[0m \u001b[0;34m=\u001b[0m \u001b[0mpartials_get\u001b[0m\u001b[0;34m(\u001b[0m\u001b[0md\u001b[0m\u001b[0;34m,\u001b[0m \u001b[0;36m0\u001b[0m\u001b[0;34m)\u001b[0m \u001b[0;34m+\u001b[0m \u001b[0mn\u001b[0m\u001b[0;34m\u001b[0m\u001b[0;34m\u001b[0m\u001b[0m\n",
      "\u001b[0;32m~/opt/anaconda3/lib/python3.9/statistics.py\u001b[0m in \u001b[0;36m_exact_ratio\u001b[0;34m(x)\u001b[0m\n\u001b[1;32m    246\u001b[0m         \u001b[0;32mreturn\u001b[0m \u001b[0;34m(\u001b[0m\u001b[0mx\u001b[0m\u001b[0;34m,\u001b[0m \u001b[0;32mNone\u001b[0m\u001b[0;34m)\u001b[0m\u001b[0;34m\u001b[0m\u001b[0;34m\u001b[0m\u001b[0m\n\u001b[1;32m    247\u001b[0m     \u001b[0mmsg\u001b[0m \u001b[0;34m=\u001b[0m \u001b[0;34m\"can't convert type '{}' to numerator/denominator\"\u001b[0m\u001b[0;34m\u001b[0m\u001b[0;34m\u001b[0m\u001b[0m\n\u001b[0;32m--> 248\u001b[0;31m     \u001b[0;32mraise\u001b[0m \u001b[0mTypeError\u001b[0m\u001b[0;34m(\u001b[0m\u001b[0mmsg\u001b[0m\u001b[0;34m.\u001b[0m\u001b[0mformat\u001b[0m\u001b[0;34m(\u001b[0m\u001b[0mtype\u001b[0m\u001b[0;34m(\u001b[0m\u001b[0mx\u001b[0m\u001b[0;34m)\u001b[0m\u001b[0;34m.\u001b[0m\u001b[0m__name__\u001b[0m\u001b[0;34m)\u001b[0m\u001b[0;34m)\u001b[0m\u001b[0;34m\u001b[0m\u001b[0;34m\u001b[0m\u001b[0m\n\u001b[0m\u001b[1;32m    249\u001b[0m \u001b[0;34m\u001b[0m\u001b[0m\n\u001b[1;32m    250\u001b[0m \u001b[0;34m\u001b[0m\u001b[0m\n",
      "\u001b[0;31mTypeError\u001b[0m: can't convert type 'str' to numerator/denominator"
     ]
    }
   ],
   "source": [
    "non_num_list = [\"a\", \"b\", \"c\"]\n",
    "DataAnalyzer(non_num_list).mean() # Trying to run an empty list leads to a TypeError"
   ]
  },
  {
   "cell_type": "markdown",
   "metadata": {
    "id": "_Aew4Wgg2dih"
   },
   "source": [
    "#### `test_empty_list`\n",
    "- **Purpose**: Ensures the `mean` method raises an error when called with an empty list.\n",
    "- **Key Points**:\n",
    "  - An empty list cannot have a mean, so the method should raise an error.\n",
    "  - Uses `pytest.raises` to check for `statistics.StatisticsError`."
   ]
  },
  {
   "cell_type": "code",
   "execution_count": 16,
   "metadata": {
    "id": "CJ4SgG-Mc4nH"
   },
   "outputs": [],
   "source": [
    "\"\"\"Create test functions that look for these errors\"\"\"\n",
    "import pytest\n",
    "\n",
    "def test_empty_list(data):\n",
    "    analyzer = DataAnalyzer(data)\n",
    "    with pytest.raises(statistics.StatisticsError):\n",
    "        analyzer.mean()\n",
    "\n"
   ]
  },
  {
   "cell_type": "code",
   "execution_count": 17,
   "metadata": {},
   "outputs": [
    {
     "name": "stdout",
     "output_type": "stream",
     "text": [
      "Error: Empty list detected\n"
     ]
    }
   ],
   "source": [
    "try:\n",
    "    test_empty_list([])\n",
    "    print(\"Error: Empty list detected\")\n",
    "except AssertionError:\n",
    "    print(\"List is not empty!\")"
   ]
  },
  {
   "cell_type": "markdown",
   "metadata": {
    "id": "wboyIUd-2xpi"
   },
   "source": [
    "#### `test_non_numeric_data`\n",
    "- **Purpose**: Verifies that the `mean` method raises a `TypeError` when non-numeric data is provided.\n",
    "- **Key Points**:\n",
    "  - The `sum` function cannot handle non-numeric values.\n",
    "  - This test ensures invalid input is handled explicitly."
   ]
  },
  {
   "cell_type": "code",
   "execution_count": 18,
   "metadata": {
    "id": "dV_fR92H2yb6"
   },
   "outputs": [],
   "source": [
    "def test_non_numeric_data(data):\n",
    "    analyzer = DataAnalyzer(data)\n",
    "    with pytest.raises(TypeError):\n",
    "        analyzer.mean()"
   ]
  },
  {
   "cell_type": "code",
   "execution_count": 19,
   "metadata": {},
   "outputs": [
    {
     "name": "stdout",
     "output_type": "stream",
     "text": [
      "Error: Non-Numeric detected\n"
     ]
    }
   ],
   "source": [
    "try:\n",
    "    test_non_numeric_data([\"a\", \"b\", 7])\n",
    "    print(\"Error: Non-Numeric detected\")\n",
    "except AssertionError:\n",
    "    print(\"List is numeric!\")"
   ]
  },
  {
   "cell_type": "markdown",
   "metadata": {
    "id": "5iB8Mz2i3Dp_"
   },
   "source": [
    "## Final Challenge Instructions: Rewriting the DataAnalyzer Class\n",
    "For the final challenge, you will modify the `DataAnalyzer` class to calculate the mean, median, and mode manually without using any functions from the statistics library.\n",
    "\n",
    "**Instructions**\n",
    "1. Re-Write the `mean` Method\n",
    "    * Manually calculate the mean using a `for loop` to sum the values in the list.\n",
    "    * Avoid using the `sum` function.\n",
    "    * Round to 1 decimal\n",
    "\n",
    "2. Re-Write the median Method\n",
    "    * Manually calculate the median by:\n",
    "        * Sorting the list.\n",
    "        * Finding the middle value if the list has an odd number of elements.\n",
    "        * Averaging the two middle values if the list has an even number of elements.\n",
    "\n",
    "3. Re-Write the mode Method\n",
    "    * Manually calculate the mode by:\n",
    "        * Counting the frequency of each number in the list using a dictionary.\n",
    "        * Identifying the number with the highest frequency.\n",
    "\n",
    "4. Test Your Implementation\n",
    "    * Use the provided test functions (test_mean, test_median, test_mode) to verify your manual implementations work correctly.\n",
    "    * Run your tests using pytest or manually in the notebook."
   ]
  },
  {
   "cell_type": "code",
   "execution_count": 20,
   "metadata": {
    "id": "_J-NcaPpFsi5"
   },
   "outputs": [],
   "source": [
    "class DataAnalyzer:\n",
    "    def __init__(self, data):\n",
    "        \"\"\"\n",
    "        Initializes the DataAnalyzer with a list of numeric values.\n",
    "        \"\"\"\n",
    "\n",
    "\n",
    "    def mean(self):\n",
    "        \"\"\"Manually calculates the mean of the numeric data.\"\"\"\n",
    "\n",
    "\n",
    "    def median(self):\n",
    "        \"\"\"Manually calculates the median of the numeric data.\"\"\"\n",
    "\n",
    "\n",
    "    def mode(self):\n",
    "        \"\"\"Manually calculates the mode of the numeric data.\"\"\"\n",
    "\n"
   ]
  },
  {
   "cell_type": "code",
   "execution_count": 21,
   "metadata": {
    "id": "HCIZsAh532ls"
   },
   "outputs": [
    {
     "ename": "IndentationError",
     "evalue": "expected an indented block (3775417448.py, line 6)",
     "output_type": "error",
     "traceback": [
      "\u001b[0;36m  File \u001b[0;32m\"/var/folders/9_/dnf4s4s91j3_b5_f0crqg4580000gn/T/ipykernel_47580/3775417448.py\"\u001b[0;36m, line \u001b[0;32m6\u001b[0m\n\u001b[0;31m    def test_median(data_list, median_value):\u001b[0m\n\u001b[0m    ^\u001b[0m\n\u001b[0;31mIndentationError\u001b[0m\u001b[0;31m:\u001b[0m expected an indented block\n"
     ]
    }
   ],
   "source": [
    "# First Test: test_mean\n",
    "def test_mean(data_list, mean_value):\n",
    "\n",
    "\n",
    "# Create test function for median\n",
    "def test_median(data_list, median_value):\n",
    "\n",
    "\n",
    "# Create test function for mode\n",
    "def test_mode(data_list, mode_value):\n",
    "\n",
    "\n",
    "# Run test functions\n"
   ]
  }
 ],
 "metadata": {
  "colab": {
   "authorship_tag": "ABX9TyP9mrVwgnTI6Z2Ly+Zxpb8z",
   "provenance": [
    {
     "file_id": "115ikyO48oYr6VRXJy1bnZdwa8gCyMTRI",
     "timestamp": 1737639966076
    },
    {
     "file_id": "1jlVNO_tvryAJvdmk_lwQHGFrV_xlz48y",
     "timestamp": 1737639663399
    }
   ]
  },
  "kernelspec": {
   "display_name": "base",
   "language": "python",
   "name": "python3"
  },
  "language_info": {
   "codemirror_mode": {
    "name": "ipython",
    "version": 3
   },
   "file_extension": ".py",
   "mimetype": "text/x-python",
   "name": "python",
   "nbconvert_exporter": "python",
   "pygments_lexer": "ipython3",
   "version": "3.9.13"
  }
 },
 "nbformat": 4,
 "nbformat_minor": 0
}
